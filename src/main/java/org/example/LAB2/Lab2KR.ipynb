{
 "cells": [
  {
   "cell_type": "code",
   "execution_count": 1,
   "id": "e7996ad5-f1c5-45cf-90a7-965322560377",
   "metadata": {},
   "outputs": [],
   "source": [
    "from pyspark import SparkContext, SparkConf \n",
    "from pyspark.sql import SQLContext\n",
    "from pyspark.sql import SparkSession\n",
    "from pyspark.sql.functions import udf\n",
    "from pyspark.sql.types import StringType\n",
    "# from pyspark.sql.functions import *\n",
    "from pyspark.sql.types import IntegerType, Row\n",
    "import pyspark.sql.functions as F"
   ]
  },
  {
   "cell_type": "code",
   "execution_count": 2,
   "id": "2dace1aa-1592-40f5-b979-70883fd85393",
   "metadata": {},
   "outputs": [],
   "source": [
    "spark = SparkSession.builder.appName('laba 2 KR').config(\"spark.jars.packages\", \"com.databricks:spark-xml_2.12:0.17.0\").getOrCreate()"
   ]
  },
  {
   "cell_type": "code",
   "execution_count": 5,
   "id": "aaa88558-3787-43d0-873a-d42587999f5f",
   "metadata": {},
   "outputs": [
    {
     "data": {
      "text/plain": [
       "Row(_AcceptedAnswerId=7, _AnswerCount=13, _Body=\"<p>I want to use a track-bar to change a form's opacity.</p>\\n\\n<p>This is my code:</p>\\n\\n<pre><code>decimal trans = trackBar1.Value / 5000;\\nthis.Opacity = trans;\\n</code></pre>\\n\\n<p>When I build the application, it gives the following error:</p>\\n\\n<blockquote>\\n  <p>Cannot implicitly convert type <code>'decimal'</code> to <code>'double'</code></p>\\n</blockquote>\\n\\n<p>I tried using <code>trans</code> and <code>double</code> but then the control doesn't work. This code worked fine in a past VB.NET project.</p>\\n\", _ClosedDate=None, _CommentCount=2, _CommunityOwnedDate=datetime.datetime(2012, 10, 31, 20, 42, 47, 213000), _CreationDate=datetime.datetime(2008, 8, 1, 2, 42, 52, 667000), _FavoriteCount=48, _Id=4, _LastActivityDate=datetime.datetime(2019, 7, 19, 5, 39, 54, 173000), _LastEditDate=datetime.datetime(2019, 7, 19, 5, 39, 54, 173000), _LastEditorDisplayName='Rich B', _LastEditorUserId=3641067, _OwnerDisplayName=None, _OwnerUserId=8, _ParentId=None, _PostTypeId=1, _Score=630, _Tags='<c#><floating-point><type-conversion><double><decimal>', _Title='Convert Decimal to Double?', _ViewCount=42817)"
      ]
     },
     "execution_count": 5,
     "metadata": {},
     "output_type": "execute_result"
    }
   ],
   "source": [
    "df = spark.read.format(\"com.databricks.spark.xml\").option(\"rootTag\", \"hierarchy\").option(\"rowTag\", \"row\").load(\"posts_sample.xml\")\n",
    "df.head()"
   ]
  },
  {
   "cell_type": "code",
   "execution_count": 6,
   "id": "6a601813-0c7a-43f0-b4cf-8e11742ed520",
   "metadata": {},
   "outputs": [
    {
     "data": {
      "text/plain": [
       "['_AcceptedAnswerId',\n",
       " '_AnswerCount',\n",
       " '_Body',\n",
       " '_ClosedDate',\n",
       " '_CommentCount',\n",
       " '_CommunityOwnedDate',\n",
       " '_CreationDate',\n",
       " '_FavoriteCount',\n",
       " '_Id',\n",
       " '_LastActivityDate',\n",
       " '_LastEditDate',\n",
       " '_LastEditorDisplayName',\n",
       " '_LastEditorUserId',\n",
       " '_OwnerDisplayName',\n",
       " '_OwnerUserId',\n",
       " '_ParentId',\n",
       " '_PostTypeId',\n",
       " '_Score',\n",
       " '_Tags',\n",
       " '_Title',\n",
       " '_ViewCount']"
      ]
     },
     "execution_count": 6,
     "metadata": {},
     "output_type": "execute_result"
    }
   ],
   "source": [
    "df.schema.names"
   ]
  },
  {
   "cell_type": "code",
   "execution_count": 7,
   "id": "a8a6d307-8f31-4921-860a-34423dd9b9db",
   "metadata": {},
   "outputs": [],
   "source": [
    "df = df.drop('_Body', '_ClosedDate',  '_CommentCount', '_CommunityOwnedDate', '_LastEditDate', '_AcceptedAnswerId',\n",
    " '_LastEditorDisplayName',\n",
    " '_LastEditorUserId',\n",
    " '_OwnerDisplayName',\n",
    " '_OwnerUserId', '_ParentId',  '_PostTypeId', '_Id', '_ViewCount', '_FavoriteCount', '_AnswerCount', '_Title')\n",
    "df = df.dropna(subset=[\"_Tags\", \"_CreationDate\", \"_Score\"])"
   ]
  },
  {
   "cell_type": "code",
   "execution_count": 8,
   "id": "d781a5eb-209a-4a48-bc5e-703d4998ec37",
   "metadata": {},
   "outputs": [
    {
     "name": "stdout",
     "output_type": "stream",
     "text": [
      "+--------------------+--------------------+------+--------------------+\n",
      "|       _CreationDate|   _LastActivityDate|_Score|               _Tags|\n",
      "+--------------------+--------------------+------+--------------------+\n",
      "|2008-08-01 02:42:...|2019-07-19 05:39:...|   630|<c#><floating-poi...|\n",
      "|2008-08-01 03:08:...|2019-07-19 05:43:...|   281|<html><css><inter...|\n",
      "|2008-08-01 04:40:...|2019-06-26 19:25:...|  1742|<c#><.net><datetime>|\n",
      "|2008-08-01 04:55:...|2019-05-26 06:31:...|  1444|<c#><datetime><ti...|\n",
      "|2008-08-01 05:42:...|2019-05-14 20:02:...|   590|<html><browser><t...|\n",
      "|2008-08-01 05:59:...|2018-09-19 07:49:...|   399|        <.net><math>|\n",
      "|2010-09-22 14:33:...|2017-02-26 22:11:...|    10|<c++><character-e...|\n",
      "|2010-09-23 10:47:...|2010-11-23 16:14:...|     1|<sharepoint><info...|\n",
      "|2010-09-23 12:53:...|2012-09-11 18:09:...|     6|<iphone><app-stor...|\n",
      "|2010-09-23 15:47:...|2012-04-17 02:54:...|     5|<symfony1><schema...|\n",
      "|2010-09-23 16:13:...|2010-09-23 17:52:...|    -4|              <java>|\n",
      "|2010-09-24 12:40:...|2011-01-20 14:02:...|     0|<visual-studio-20...|\n",
      "|2010-09-24 20:34:...|2010-09-26 11:54:...|     1|<cakephp><file-up...|\n",
      "|2010-09-25 21:42:...|2012-05-17 17:22:...|     1|<git><cygwin><putty>|\n",
      "|2010-09-26 16:58:...|2010-09-26 19:33:...|     1|  <drupal><drupal-6>|\n",
      "|2010-09-26 21:07:...|2010-09-27 18:34:...|     3|<php><wordpress><...|\n",
      "|2010-09-27 09:20:...|2014-09-09 13:50:...|    11|<c#><winforms><da...|\n",
      "|2010-09-27 13:48:...|2012-03-02 06:31:...|     2|<c#><asp.net><exc...|\n",
      "|2010-09-28 12:56:...|2010-12-24 12:50:...|     1|    <sql><xml><blob>|\n",
      "|2010-09-28 22:48:...|2017-03-23 23:03:...|     3|<.htaccess><codei...|\n",
      "+--------------------+--------------------+------+--------------------+\n",
      "only showing top 20 rows\n",
      "\n"
     ]
    }
   ],
   "source": [
    "df.show()"
   ]
  },
  {
   "cell_type": "code",
   "execution_count": 9,
   "id": "03f970cb-5e0c-44cd-81f9-bb3f7df5f03f",
   "metadata": {},
   "outputs": [],
   "source": [
    "df = df.withColumn('tags', F.regexp_extract('_Tags', r'\\.?\\w+#?\\+*', 0))"
   ]
  },
  {
   "cell_type": "code",
   "execution_count": 10,
   "id": "e2f6cc6c-4c2d-43ff-9a27-241f9c8ef421",
   "metadata": {},
   "outputs": [],
   "source": [
    "df = df.withColumn('_CreationDate', F.year(df._CreationDate))"
   ]
  },
  {
   "cell_type": "code",
   "execution_count": 11,
   "id": "646c0689-59e1-48c1-921a-c1c0f9ef3e7c",
   "metadata": {},
   "outputs": [
    {
     "data": {
      "text/plain": [
       "1043"
      ]
     },
     "execution_count": 11,
     "metadata": {},
     "output_type": "execute_result"
    }
   ],
   "source": [
    "df.select(\"tags\").distinct().count()"
   ]
  },
  {
   "cell_type": "code",
   "execution_count": 12,
   "id": "cc9687b2-2eaa-49d4-a20a-a5ce48be417d",
   "metadata": {},
   "outputs": [
    {
     "name": "stdout",
     "output_type": "stream",
     "text": [
      "+-------------+--------------------+------+----------+\n",
      "|_CreationDate|   _LastActivityDate|_Score|      tags|\n",
      "+-------------+--------------------+------+----------+\n",
      "|         2008|2019-07-19 05:39:...|   630|        c#|\n",
      "|         2008|2019-07-19 05:43:...|   281|      html|\n",
      "|         2008|2019-06-26 19:25:...|  1742|        c#|\n",
      "|         2008|2019-05-26 06:31:...|  1444|        c#|\n",
      "|         2008|2019-05-14 20:02:...|   590|      html|\n",
      "|         2008|2018-09-19 07:49:...|   399|      .net|\n",
      "|         2010|2017-02-26 22:11:...|    10|       c++|\n",
      "|         2010|2010-11-23 16:14:...|     1|sharepoint|\n",
      "|         2010|2012-09-11 18:09:...|     6|    iphone|\n",
      "|         2010|2012-04-17 02:54:...|     5|  symfony1|\n",
      "|         2010|2010-09-23 17:52:...|    -4|      java|\n",
      "|         2010|2011-01-20 14:02:...|     0|    visual|\n",
      "|         2010|2010-09-26 11:54:...|     1|   cakephp|\n",
      "|         2010|2012-05-17 17:22:...|     1|       git|\n",
      "|         2010|2010-09-26 19:33:...|     1|    drupal|\n",
      "|         2010|2010-09-27 18:34:...|     3|       php|\n",
      "|         2010|2014-09-09 13:50:...|    11|        c#|\n",
      "|         2010|2012-03-02 06:31:...|     2|        c#|\n",
      "|         2010|2010-12-24 12:50:...|     1|       sql|\n",
      "|         2010|2017-03-23 23:03:...|     3| .htaccess|\n",
      "+-------------+--------------------+------+----------+\n",
      "only showing top 20 rows\n",
      "\n"
     ]
    }
   ],
   "source": [
    "df = df.drop('_Tags')\n",
    "df.show()"
   ]
  },
  {
   "cell_type": "code",
   "execution_count": 13,
   "id": "0979d0cf-1881-4af9-a70d-bd52752ae274",
   "metadata": {},
   "outputs": [],
   "source": [
    "postsInternal = df.groupBy(\"_CreationDate\", \"tags\").sum(\"_Score\")"
   ]
  },
  {
   "cell_type": "code",
   "execution_count": 14,
   "id": "c3159d76-6256-4d14-a1fc-46ab587ff9a5",
   "metadata": {},
   "outputs": [],
   "source": [
    "postsInternal = postsInternal.withColumnRenamed(\"sum(_Score)\", \"score\")"
   ]
  },
  {
   "cell_type": "code",
   "execution_count": 15,
   "id": "77082411-f06c-4cd7-8339-faefaaac101a",
   "metadata": {},
   "outputs": [
    {
     "name": "stdout",
     "output_type": "stream",
     "text": [
      "root\n",
      " |-- _CreationDate: integer (nullable = true)\n",
      " |-- tags: string (nullable = true)\n",
      " |-- score: long (nullable = true)\n",
      "\n"
     ]
    }
   ],
   "source": [
    "postsInternal.printSchema()"
   ]
  },
  {
   "cell_type": "code",
   "execution_count": 16,
   "id": "de1b24b0-efe0-428f-8533-3cdd1d0fbdff",
   "metadata": {},
   "outputs": [
    {
     "name": "stdout",
     "output_type": "stream",
     "text": [
      "+-------------+-----------+-----+\n",
      "|_CreationDate|       tags|score|\n",
      "+-------------+-----------+-----+\n",
      "|         2013|     jquery|   65|\n",
      "|         2014|         c#|  300|\n",
      "|         2018|   security|    2|\n",
      "|         2012|      jetty|    4|\n",
      "|         2013|     events|   29|\n",
      "|         2018|codenameone|    2|\n",
      "|         2012|   generics|    2|\n",
      "|         2011|       code|    1|\n",
      "|         2019|      forms|    0|\n",
      "|         2018|    powerbi|    0|\n",
      "|         2014|   assembly|    1|\n",
      "|         2011|geolocation|    0|\n",
      "|         2013|      neo4j|    2|\n",
      "|         2013| highcharts|    0|\n",
      "|         2015|        ios|  941|\n",
      "|         2018|       ajax|    0|\n",
      "|         2012|  glassfish|    0|\n",
      "|         2017|  angularjs|   -2|\n",
      "|         2019| phpmyadmin|    0|\n",
      "|         2017|       perl|    8|\n",
      "+-------------+-----------+-----+\n",
      "only showing top 20 rows\n",
      "\n"
     ]
    }
   ],
   "source": [
    "postsInternal.show()"
   ]
  },
  {
   "cell_type": "code",
   "execution_count": 17,
   "id": "109cae9b-d9ee-47bf-8117-1c8ea6f7beb0",
   "metadata": {},
   "outputs": [],
   "source": [
    "programm = spark.read.csv(\"programming-languages.csv\")"
   ]
  },
  {
   "cell_type": "code",
   "execution_count": 18,
   "id": "5e4d545e-de67-4d52-9c4c-b4bba3ec516c",
   "metadata": {},
   "outputs": [],
   "source": [
    "programms = programm.rdd.map(lambda x: x[0].lower()).collect()[1:]"
   ]
  },
  {
   "cell_type": "code",
   "execution_count": 19,
   "id": "d64c0fb0-c777-43ff-990d-c24861c59d41",
   "metadata": {},
   "outputs": [],
   "source": [
    "posts = postsInternal.rdd.filter(lambda row: row.tags in programms).filter(lambda row: row._CreationDate >= 2010)"
   ]
  },
  {
   "cell_type": "code",
   "execution_count": 20,
   "id": "d06eedc6-d1cf-4f84-a09d-20a66e9586c9",
   "metadata": {},
   "outputs": [
    {
     "data": {
      "text/plain": [
       "264"
      ]
     },
     "execution_count": 20,
     "metadata": {},
     "output_type": "execute_result"
    }
   ],
   "source": [
    "posts.count()"
   ]
  },
  {
   "cell_type": "code",
   "execution_count": 21,
   "id": "f6becaed-335b-47c9-9e8f-3e2d398f2f68",
   "metadata": {},
   "outputs": [],
   "source": [
    "ps = spark.createDataFrame(posts)"
   ]
  },
  {
   "cell_type": "code",
   "execution_count": 22,
   "id": "84fcd9f6-e2b5-4dc1-b2dd-4c377a2cdb5d",
   "metadata": {},
   "outputs": [],
   "source": [
    "ps = ps.orderBy([\"_CreationDate\", \"score\"], ascending=[1, 0])"
   ]
  },
  {
   "cell_type": "code",
   "execution_count": 23,
   "id": "602c01d1-778f-498e-95d1-7d3cc8f1a68d",
   "metadata": {},
   "outputs": [
    {
     "name": "stdout",
     "output_type": "stream",
     "text": [
      "+-------------+------------+-----+\n",
      "|_CreationDate|        tags|score|\n",
      "+-------------+------------+-----+\n",
      "|         2010|         php|  841|\n",
      "|         2010|        java|  277|\n",
      "|         2010|  javascript|  176|\n",
      "|         2010|        ruby|  116|\n",
      "|         2010|      python|   76|\n",
      "|         2010|      delphi|   35|\n",
      "|         2010|           c|   35|\n",
      "|         2010|          go|   13|\n",
      "|         2010|  powershell|   11|\n",
      "|         2010|        bash|    9|\n",
      "|         2010|     haskell|    8|\n",
      "|         2010|        perl|    5|\n",
      "|         2010|           r|    2|\n",
      "|         2010|         ksh|    0|\n",
      "|         2010| applescript|    0|\n",
      "|         2010|actionscript|    0|\n",
      "|         2011|  javascript|  480|\n",
      "|         2011|        java|  301|\n",
      "|         2011|        ruby|  297|\n",
      "|         2011|      python|  281|\n",
      "+-------------+------------+-----+\n",
      "only showing top 20 rows\n",
      "\n"
     ]
    }
   ],
   "source": [
    "ps.show()"
   ]
  },
  {
   "cell_type": "code",
   "execution_count": 24,
   "id": "1a0b22f9-834b-4ef0-9da9-91e900acdb48",
   "metadata": {},
   "outputs": [],
   "source": [
    "tables = [ps.filter(ps._CreationDate == 2010 + i).limit(10) for i in range(0, 10)]"
   ]
  },
  {
   "cell_type": "code",
   "execution_count": 25,
   "id": "16f8601a-bcdc-4e2c-9349-cf80936f5983",
   "metadata": {},
   "outputs": [
    {
     "name": "stdout",
     "output_type": "stream",
     "text": [
      "+-------------+----------+-----+\n",
      "|_CreationDate|      tags|score|\n",
      "+-------------+----------+-----+\n",
      "|         2015|    python|  353|\n",
      "|         2015|      java|  349|\n",
      "|         2015|javascript|  298|\n",
      "|         2015|       php|   85|\n",
      "|         2015|         r|   78|\n",
      "|         2015|     scala|   51|\n",
      "|         2015|         c|   29|\n",
      "|         2015|        go|   20|\n",
      "|         2015|    matlab|   11|\n",
      "|         2015|      ruby|    9|\n",
      "+-------------+----------+-----+\n",
      "\n"
     ]
    }
   ],
   "source": [
    "tables[5].show()"
   ]
  },
  {
   "cell_type": "code",
   "execution_count": 26,
   "id": "3d2e6ab3-6186-401d-9907-6e48244310f1",
   "metadata": {},
   "outputs": [],
   "source": [
    "for table in tables: \n",
    "    table.write.mode(\"append\").parquet(f\"output/top10languages{table.first()[0]}.parquet\")"
   ]
  },
  {
   "attachments": {
    "90648e0d-48e8-4539-8d14-8a7fb2f7958c.png": {
     "image/png": "[encoded data removed]"
    }
   },
   "cell_type": "markdown",
   "id": "e5def488-2e57-4232-a6fb-f2f067d9907e",
   "metadata": {},
   "source": [
    "![image.png](attachment:90648e0d-48e8-4539-8d14-8a7fb2f7958c.png)"
   ]
  },
  {
   "cell_type": "code",
   "execution_count": null,
   "id": "f1533139-bc79-4bde-ae6e-94d6b2621c89",
   "metadata": {},
   "outputs": [],
   "source": []
  }
 ],
 "metadata": {
  "kernelspec": {
   "display_name": "Python 3",
   "language": "python",
   "name": "python3"
  },
  "language_info": {
   "codemirror_mode": {
    "name": "ipython",
    "version": 3
   },
   "file_extension": ".py",
   "mimetype": "text/x-python",
   "name": "python",
   "nbconvert_exporter": "python",
   "pygments_lexer": "ipython3",
   "version": "3.9.5"
  }
 },
 "nbformat": 4,
 "nbformat_minor": 5
}
